{
 "cells": [
  {
   "cell_type": "code",
   "execution_count": 2,
   "id": "63e97c83",
   "metadata": {},
   "outputs": [],
   "source": [
    "import requests\n",
    "from bs4 import BeautifulSoup\n",
    "import csv\n",
    "website = requests.get(\"https://www.imdb.com/chart/top/\").text\n",
    "soup = BeautifulSoup(website, 'lxml')\n",
    "csvfile = open ('scrape1.csv', 'w', encoding='utf-8') \n",
    "writer = csv.writer(csvfile) \n",
    "writer.writerow(['name', 'year', 'rank','rate'])\n",
    "s=soup.find_all(\"td\",class_=\"titleColumn\")\n",
    "rate= soup.find_all('td',class_=\"ratingColumn imdbRating\")\n",
    "for i in s :  \n",
    "    name=i.find('a').text\n",
    "    year=i.find('span').text\n",
    "    rank=i.find(text = True).strip()\n",
    "    writer.writerow([name, year,rank]) \n",
    "for x in rate :\n",
    "    r= x.find('strong').text\n",
    "    writer.writerow([r])\n",
    "csvfile.close() "
   ]
  },
  {
   "cell_type": "code",
   "execution_count": null,
   "id": "8da12a5d",
   "metadata": {},
   "outputs": [],
   "source": []
  }
 ],
 "metadata": {
  "kernelspec": {
   "display_name": "Python 3 (ipykernel)",
   "language": "python",
   "name": "python3"
  },
  "language_info": {
   "codemirror_mode": {
    "name": "ipython",
    "version": 3
   },
   "file_extension": ".py",
   "mimetype": "text/x-python",
   "name": "python",
   "nbconvert_exporter": "python",
   "pygments_lexer": "ipython3",
   "version": "3.9.12"
  }
 },
 "nbformat": 4,
 "nbformat_minor": 5
}
